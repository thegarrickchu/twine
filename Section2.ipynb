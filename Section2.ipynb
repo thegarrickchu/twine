{
 "cells": [
  {
   "cell_type": "code",
   "execution_count": 1,
   "metadata": {},
   "outputs": [],
   "source": [
    "# This notebook is for Section 2: Data Analysis of the Twine Take Home Assignment\n",
    "# Source Data: user_data.csv\n",
    "\n",
    "# import necessary modules\n",
    "\n",
    "import os\n",
    "import numpy as np\n",
    "import pandas as pd\n",
    "import matplotlib.pyplot as plt\n",
    "plt.style.use('ggplot')\n",
    "%matplotlib inline"
   ]
  },
  {
   "cell_type": "code",
   "execution_count": 2,
   "metadata": {},
   "outputs": [
    {
     "data": {
      "text/html": [
       "<div>\n",
       "<style scoped>\n",
       "    .dataframe tbody tr th:only-of-type {\n",
       "        vertical-align: middle;\n",
       "    }\n",
       "\n",
       "    .dataframe tbody tr th {\n",
       "        vertical-align: top;\n",
       "    }\n",
       "\n",
       "    .dataframe thead th {\n",
       "        text-align: right;\n",
       "    }\n",
       "</style>\n",
       "<table border=\"1\" class=\"dataframe\">\n",
       "  <thead>\n",
       "    <tr style=\"text-align: right;\">\n",
       "      <th></th>\n",
       "      <th>userid</th>\n",
       "      <th>acqusition_date</th>\n",
       "      <th>churn_date</th>\n",
       "      <th>age</th>\n",
       "      <th>gender</th>\n",
       "      <th>income</th>\n",
       "      <th>account_type</th>\n",
       "      <th>attribution_source</th>\n",
       "      <th>active_goals</th>\n",
       "      <th>total_funds</th>\n",
       "      <th>active_deposits</th>\n",
       "    </tr>\n",
       "  </thead>\n",
       "  <tbody>\n",
       "    <tr>\n",
       "      <th>0</th>\n",
       "      <td>914806</td>\n",
       "      <td>2018-06-23</td>\n",
       "      <td>NaN</td>\n",
       "      <td>41</td>\n",
       "      <td>female</td>\n",
       "      <td>76000.0</td>\n",
       "      <td>Cash</td>\n",
       "      <td>Organic</td>\n",
       "      <td>2</td>\n",
       "      <td>1137.067435</td>\n",
       "      <td>260</td>\n",
       "    </tr>\n",
       "    <tr>\n",
       "      <th>1</th>\n",
       "      <td>937075</td>\n",
       "      <td>2018-06-09</td>\n",
       "      <td>NaN</td>\n",
       "      <td>32</td>\n",
       "      <td>female</td>\n",
       "      <td>85000.0</td>\n",
       "      <td>Invested</td>\n",
       "      <td>Organic</td>\n",
       "      <td>1</td>\n",
       "      <td>373.752679</td>\n",
       "      <td>80</td>\n",
       "    </tr>\n",
       "    <tr>\n",
       "      <th>2</th>\n",
       "      <td>286139</td>\n",
       "      <td>2018-08-31</td>\n",
       "      <td>NaN</td>\n",
       "      <td>30</td>\n",
       "      <td>male</td>\n",
       "      <td>59000.0</td>\n",
       "      <td>Invested</td>\n",
       "      <td>Organic</td>\n",
       "      <td>3</td>\n",
       "      <td>533.925229</td>\n",
       "      <td>260</td>\n",
       "    </tr>\n",
       "    <tr>\n",
       "      <th>3</th>\n",
       "      <td>830447</td>\n",
       "      <td>2018-05-02</td>\n",
       "      <td>2018-09-20</td>\n",
       "      <td>29</td>\n",
       "      <td>male</td>\n",
       "      <td>58000.0</td>\n",
       "      <td>Invested</td>\n",
       "      <td>Organic</td>\n",
       "      <td>0</td>\n",
       "      <td>0.000000</td>\n",
       "      <td>0</td>\n",
       "    </tr>\n",
       "    <tr>\n",
       "      <th>4</th>\n",
       "      <td>641745</td>\n",
       "      <td>2018-07-26</td>\n",
       "      <td>NaN</td>\n",
       "      <td>36</td>\n",
       "      <td>female</td>\n",
       "      <td>77000.0</td>\n",
       "      <td>Invested</td>\n",
       "      <td>Organic</td>\n",
       "      <td>1</td>\n",
       "      <td>607.353796</td>\n",
       "      <td>150</td>\n",
       "    </tr>\n",
       "    <tr>\n",
       "      <th>5</th>\n",
       "      <td>519095</td>\n",
       "      <td>2018-02-13</td>\n",
       "      <td>2018-04-23</td>\n",
       "      <td>24</td>\n",
       "      <td>female</td>\n",
       "      <td>57000.0</td>\n",
       "      <td>Invested</td>\n",
       "      <td>Google</td>\n",
       "      <td>0</td>\n",
       "      <td>0.000000</td>\n",
       "      <td>0</td>\n",
       "    </tr>\n",
       "    <tr>\n",
       "      <th>6</th>\n",
       "      <td>736588</td>\n",
       "      <td>2018-07-12</td>\n",
       "      <td>NaN</td>\n",
       "      <td>45</td>\n",
       "      <td>female</td>\n",
       "      <td>64000.0</td>\n",
       "      <td>Cash</td>\n",
       "      <td>Feedmob</td>\n",
       "      <td>1</td>\n",
       "      <td>261.823720</td>\n",
       "      <td>80</td>\n",
       "    </tr>\n",
       "    <tr>\n",
       "      <th>7</th>\n",
       "      <td>134666</td>\n",
       "      <td>2018-05-21</td>\n",
       "      <td>NaN</td>\n",
       "      <td>34</td>\n",
       "      <td>female</td>\n",
       "      <td>41000.0</td>\n",
       "      <td>Invested</td>\n",
       "      <td>Facebook</td>\n",
       "      <td>1</td>\n",
       "      <td>227.689699</td>\n",
       "      <td>40</td>\n",
       "    </tr>\n",
       "    <tr>\n",
       "      <th>8</th>\n",
       "      <td>656992</td>\n",
       "      <td>2018-08-21</td>\n",
       "      <td>NaN</td>\n",
       "      <td>47</td>\n",
       "      <td>male</td>\n",
       "      <td>102000.0</td>\n",
       "      <td>Cash</td>\n",
       "      <td>Google</td>\n",
       "      <td>1</td>\n",
       "      <td>266.845482</td>\n",
       "      <td>150</td>\n",
       "    </tr>\n",
       "    <tr>\n",
       "      <th>9</th>\n",
       "      <td>705064</td>\n",
       "      <td>2018-07-20</td>\n",
       "      <td>NaN</td>\n",
       "      <td>32</td>\n",
       "      <td>male</td>\n",
       "      <td>27000.0</td>\n",
       "      <td>Invested</td>\n",
       "      <td>Feedmob</td>\n",
       "      <td>1</td>\n",
       "      <td>109.206875</td>\n",
       "      <td>30</td>\n",
       "    </tr>\n",
       "  </tbody>\n",
       "</table>\n",
       "</div>"
      ],
      "text/plain": [
       "   userid acqusition_date  churn_date  age  gender    income account_type  \\\n",
       "0  914806      2018-06-23         NaN   41  female   76000.0         Cash   \n",
       "1  937075      2018-06-09         NaN   32  female   85000.0     Invested   \n",
       "2  286139      2018-08-31         NaN   30    male   59000.0     Invested   \n",
       "3  830447      2018-05-02  2018-09-20   29    male   58000.0     Invested   \n",
       "4  641745      2018-07-26         NaN   36  female   77000.0     Invested   \n",
       "5  519095      2018-02-13  2018-04-23   24  female   57000.0     Invested   \n",
       "6  736588      2018-07-12         NaN   45  female   64000.0         Cash   \n",
       "7  134666      2018-05-21         NaN   34  female   41000.0     Invested   \n",
       "8  656992      2018-08-21         NaN   47    male  102000.0         Cash   \n",
       "9  705064      2018-07-20         NaN   32    male   27000.0     Invested   \n",
       "\n",
       "  attribution_source  active_goals  total_funds  active_deposits  \n",
       "0            Organic             2  1137.067435              260  \n",
       "1            Organic             1   373.752679               80  \n",
       "2            Organic             3   533.925229              260  \n",
       "3            Organic             0     0.000000                0  \n",
       "4            Organic             1   607.353796              150  \n",
       "5             Google             0     0.000000                0  \n",
       "6            Feedmob             1   261.823720               80  \n",
       "7           Facebook             1   227.689699               40  \n",
       "8             Google             1   266.845482              150  \n",
       "9            Feedmob             1   109.206875               30  "
      ]
     },
     "execution_count": 2,
     "metadata": {},
     "output_type": "execute_result"
    }
   ],
   "source": [
    "# import data set... currently in same dir as notebook. Using encoding as UTF-8 as determined by file\n",
    "\n",
    "user_data = pd.read_csv('user_data.csv', sep=\",\", encoding='utf-8')\n",
    "\n",
    "# looking at first 10 lines to see if data imported as expected\n",
    "\n",
    "user_data.head(10)"
   ]
  },
  {
   "cell_type": "code",
   "execution_count": 3,
   "metadata": {},
   "outputs": [
    {
     "data": {
      "text/html": [
       "<div>\n",
       "<style scoped>\n",
       "    .dataframe tbody tr th:only-of-type {\n",
       "        vertical-align: middle;\n",
       "    }\n",
       "\n",
       "    .dataframe tbody tr th {\n",
       "        vertical-align: top;\n",
       "    }\n",
       "\n",
       "    .dataframe thead th {\n",
       "        text-align: right;\n",
       "    }\n",
       "</style>\n",
       "<table border=\"1\" class=\"dataframe\">\n",
       "  <thead>\n",
       "    <tr style=\"text-align: right;\">\n",
       "      <th></th>\n",
       "      <th>userid</th>\n",
       "      <th>acquisition_date</th>\n",
       "      <th>churn_date</th>\n",
       "      <th>age</th>\n",
       "      <th>gender</th>\n",
       "      <th>income</th>\n",
       "      <th>account_type</th>\n",
       "      <th>attribution_source</th>\n",
       "      <th>active_goals</th>\n",
       "      <th>total_funds</th>\n",
       "      <th>active_deposits</th>\n",
       "    </tr>\n",
       "  </thead>\n",
       "  <tbody>\n",
       "    <tr>\n",
       "      <th>0</th>\n",
       "      <td>914806</td>\n",
       "      <td>2018-06-23</td>\n",
       "      <td>NaN</td>\n",
       "      <td>41</td>\n",
       "      <td>female</td>\n",
       "      <td>76000.0</td>\n",
       "      <td>Cash</td>\n",
       "      <td>Organic</td>\n",
       "      <td>2</td>\n",
       "      <td>1137.067435</td>\n",
       "      <td>260</td>\n",
       "    </tr>\n",
       "    <tr>\n",
       "      <th>1</th>\n",
       "      <td>937075</td>\n",
       "      <td>2018-06-09</td>\n",
       "      <td>NaN</td>\n",
       "      <td>32</td>\n",
       "      <td>female</td>\n",
       "      <td>85000.0</td>\n",
       "      <td>Invested</td>\n",
       "      <td>Organic</td>\n",
       "      <td>1</td>\n",
       "      <td>373.752679</td>\n",
       "      <td>80</td>\n",
       "    </tr>\n",
       "    <tr>\n",
       "      <th>2</th>\n",
       "      <td>286139</td>\n",
       "      <td>2018-08-31</td>\n",
       "      <td>NaN</td>\n",
       "      <td>30</td>\n",
       "      <td>male</td>\n",
       "      <td>59000.0</td>\n",
       "      <td>Invested</td>\n",
       "      <td>Organic</td>\n",
       "      <td>3</td>\n",
       "      <td>533.925229</td>\n",
       "      <td>260</td>\n",
       "    </tr>\n",
       "    <tr>\n",
       "      <th>3</th>\n",
       "      <td>830447</td>\n",
       "      <td>2018-05-02</td>\n",
       "      <td>2018-09-20</td>\n",
       "      <td>29</td>\n",
       "      <td>male</td>\n",
       "      <td>58000.0</td>\n",
       "      <td>Invested</td>\n",
       "      <td>Organic</td>\n",
       "      <td>0</td>\n",
       "      <td>0.000000</td>\n",
       "      <td>0</td>\n",
       "    </tr>\n",
       "    <tr>\n",
       "      <th>4</th>\n",
       "      <td>641745</td>\n",
       "      <td>2018-07-26</td>\n",
       "      <td>NaN</td>\n",
       "      <td>36</td>\n",
       "      <td>female</td>\n",
       "      <td>77000.0</td>\n",
       "      <td>Invested</td>\n",
       "      <td>Organic</td>\n",
       "      <td>1</td>\n",
       "      <td>607.353796</td>\n",
       "      <td>150</td>\n",
       "    </tr>\n",
       "    <tr>\n",
       "      <th>5</th>\n",
       "      <td>519095</td>\n",
       "      <td>2018-02-13</td>\n",
       "      <td>2018-04-23</td>\n",
       "      <td>24</td>\n",
       "      <td>female</td>\n",
       "      <td>57000.0</td>\n",
       "      <td>Invested</td>\n",
       "      <td>Google</td>\n",
       "      <td>0</td>\n",
       "      <td>0.000000</td>\n",
       "      <td>0</td>\n",
       "    </tr>\n",
       "    <tr>\n",
       "      <th>6</th>\n",
       "      <td>736588</td>\n",
       "      <td>2018-07-12</td>\n",
       "      <td>NaN</td>\n",
       "      <td>45</td>\n",
       "      <td>female</td>\n",
       "      <td>64000.0</td>\n",
       "      <td>Cash</td>\n",
       "      <td>Feedmob</td>\n",
       "      <td>1</td>\n",
       "      <td>261.823720</td>\n",
       "      <td>80</td>\n",
       "    </tr>\n",
       "    <tr>\n",
       "      <th>7</th>\n",
       "      <td>134666</td>\n",
       "      <td>2018-05-21</td>\n",
       "      <td>NaN</td>\n",
       "      <td>34</td>\n",
       "      <td>female</td>\n",
       "      <td>41000.0</td>\n",
       "      <td>Invested</td>\n",
       "      <td>Facebook</td>\n",
       "      <td>1</td>\n",
       "      <td>227.689699</td>\n",
       "      <td>40</td>\n",
       "    </tr>\n",
       "    <tr>\n",
       "      <th>8</th>\n",
       "      <td>656992</td>\n",
       "      <td>2018-08-21</td>\n",
       "      <td>NaN</td>\n",
       "      <td>47</td>\n",
       "      <td>male</td>\n",
       "      <td>102000.0</td>\n",
       "      <td>Cash</td>\n",
       "      <td>Google</td>\n",
       "      <td>1</td>\n",
       "      <td>266.845482</td>\n",
       "      <td>150</td>\n",
       "    </tr>\n",
       "    <tr>\n",
       "      <th>9</th>\n",
       "      <td>705064</td>\n",
       "      <td>2018-07-20</td>\n",
       "      <td>NaN</td>\n",
       "      <td>32</td>\n",
       "      <td>male</td>\n",
       "      <td>27000.0</td>\n",
       "      <td>Invested</td>\n",
       "      <td>Feedmob</td>\n",
       "      <td>1</td>\n",
       "      <td>109.206875</td>\n",
       "      <td>30</td>\n",
       "    </tr>\n",
       "  </tbody>\n",
       "</table>\n",
       "</div>"
      ],
      "text/plain": [
       "   userid acquisition_date  churn_date  age  gender    income account_type  \\\n",
       "0  914806       2018-06-23         NaN   41  female   76000.0         Cash   \n",
       "1  937075       2018-06-09         NaN   32  female   85000.0     Invested   \n",
       "2  286139       2018-08-31         NaN   30    male   59000.0     Invested   \n",
       "3  830447       2018-05-02  2018-09-20   29    male   58000.0     Invested   \n",
       "4  641745       2018-07-26         NaN   36  female   77000.0     Invested   \n",
       "5  519095       2018-02-13  2018-04-23   24  female   57000.0     Invested   \n",
       "6  736588       2018-07-12         NaN   45  female   64000.0         Cash   \n",
       "7  134666       2018-05-21         NaN   34  female   41000.0     Invested   \n",
       "8  656992       2018-08-21         NaN   47    male  102000.0         Cash   \n",
       "9  705064       2018-07-20         NaN   32    male   27000.0     Invested   \n",
       "\n",
       "  attribution_source  active_goals  total_funds  active_deposits  \n",
       "0            Organic             2  1137.067435              260  \n",
       "1            Organic             1   373.752679               80  \n",
       "2            Organic             3   533.925229              260  \n",
       "3            Organic             0     0.000000                0  \n",
       "4            Organic             1   607.353796              150  \n",
       "5             Google             0     0.000000                0  \n",
       "6            Feedmob             1   261.823720               80  \n",
       "7           Facebook             1   227.689699               40  \n",
       "8             Google             1   266.845482              150  \n",
       "9            Feedmob             1   109.206875               30  "
      ]
     },
     "execution_count": 3,
     "metadata": {},
     "output_type": "execute_result"
    }
   ],
   "source": [
    "# update the acquisition_date col label\n",
    "\n",
    "user_data.rename(columns={'acqusition_date': 'acquisition_date'}, inplace=True)\n",
    "\n",
    "user_data.head(10)"
   ]
  },
  {
   "cell_type": "code",
   "execution_count": 4,
   "metadata": {},
   "outputs": [
    {
     "data": {
      "text/plain": [
       "(19804, 11)"
      ]
     },
     "execution_count": 4,
     "metadata": {},
     "output_type": "execute_result"
    }
   ],
   "source": [
    "# looks good, let's get a sense of the size of data\n",
    "\n",
    "user_data.shape"
   ]
  },
  {
   "cell_type": "code",
   "execution_count": 5,
   "metadata": {},
   "outputs": [
    {
     "name": "stdout",
     "output_type": "stream",
     "text": [
      "<class 'pandas.core.frame.DataFrame'>\n",
      "RangeIndex: 19804 entries, 0 to 19803\n",
      "Data columns (total 11 columns):\n",
      "userid                19804 non-null int64\n",
      "acquisition_date      19804 non-null object\n",
      "churn_date            6758 non-null object\n",
      "age                   19804 non-null int64\n",
      "gender                19804 non-null object\n",
      "income                19804 non-null float64\n",
      "account_type          19804 non-null object\n",
      "attribution_source    19804 non-null object\n",
      "active_goals          19804 non-null int64\n",
      "total_funds           19804 non-null float64\n",
      "active_deposits       19804 non-null int64\n",
      "dtypes: float64(2), int64(4), object(5)\n",
      "memory usage: 1.7+ MB\n"
     ]
    }
   ],
   "source": [
    "user_data.info()"
   ]
  },
  {
   "cell_type": "code",
   "execution_count": 6,
   "metadata": {},
   "outputs": [
    {
     "name": "stdout",
     "output_type": "stream",
     "text": [
      "<class 'pandas.core.frame.DataFrame'>\n",
      "RangeIndex: 19804 entries, 0 to 19803\n",
      "Data columns (total 11 columns):\n",
      "userid                19804 non-null int64\n",
      "acquisition_date      19804 non-null datetime64[ns]\n",
      "churn_date            6758 non-null datetime64[ns]\n",
      "age                   19804 non-null int64\n",
      "gender                19804 non-null object\n",
      "income                19804 non-null float64\n",
      "account_type          19804 non-null object\n",
      "attribution_source    19804 non-null object\n",
      "active_goals          19804 non-null int64\n",
      "total_funds           19804 non-null float64\n",
      "active_deposits       19804 non-null int64\n",
      "dtypes: datetime64[ns](2), float64(2), int64(4), object(3)\n",
      "memory usage: 1.7+ MB\n"
     ]
    }
   ],
   "source": [
    "# Note: shape looks clean as there are 19,804 rows and no nulls in any cols except for churn_date as expected\n",
    "\n",
    "# convert acquisition_date and churn_date cols as datetime dtype\n",
    "user_data['acquisition_date'] = pd.to_datetime(user_data['acquisition_date'])\n",
    "user_data['churn_date'] = pd.to_datetime(user_data['churn_date'])\n",
    "\n",
    "user_data.info()"
   ]
  },
  {
   "cell_type": "markdown",
   "metadata": {},
   "source": [
    "##### Before beginning the analysis process, undergo QC of the data for: outliers, bad data, etc."
   ]
  },
  {
   "cell_type": "code",
   "execution_count": 7,
   "metadata": {},
   "outputs": [
    {
     "data": {
      "text/html": [
       "<div>\n",
       "<style scoped>\n",
       "    .dataframe tbody tr th:only-of-type {\n",
       "        vertical-align: middle;\n",
       "    }\n",
       "\n",
       "    .dataframe tbody tr th {\n",
       "        vertical-align: top;\n",
       "    }\n",
       "\n",
       "    .dataframe thead th {\n",
       "        text-align: right;\n",
       "    }\n",
       "</style>\n",
       "<table border=\"1\" class=\"dataframe\">\n",
       "  <thead>\n",
       "    <tr style=\"text-align: right;\">\n",
       "      <th></th>\n",
       "      <th>userid</th>\n",
       "      <th>age</th>\n",
       "      <th>income</th>\n",
       "      <th>active_goals</th>\n",
       "      <th>total_funds</th>\n",
       "      <th>active_deposits</th>\n",
       "    </tr>\n",
       "  </thead>\n",
       "  <tbody>\n",
       "    <tr>\n",
       "      <th>count</th>\n",
       "      <td>19804.000000</td>\n",
       "      <td>19804.000000</td>\n",
       "      <td>19804.000000</td>\n",
       "      <td>19804.000000</td>\n",
       "      <td>19804.000000</td>\n",
       "      <td>19804.000000</td>\n",
       "    </tr>\n",
       "    <tr>\n",
       "      <th>mean</th>\n",
       "      <td>498226.592911</td>\n",
       "      <td>33.588366</td>\n",
       "      <td>57919.410220</td>\n",
       "      <td>0.907897</td>\n",
       "      <td>285.135151</td>\n",
       "      <td>80.338820</td>\n",
       "    </tr>\n",
       "    <tr>\n",
       "      <th>std</th>\n",
       "      <td>290134.986965</td>\n",
       "      <td>9.386381</td>\n",
       "      <td>20715.867555</td>\n",
       "      <td>0.798676</td>\n",
       "      <td>394.004454</td>\n",
       "      <td>81.121708</td>\n",
       "    </tr>\n",
       "    <tr>\n",
       "      <th>min</th>\n",
       "      <td>26.000000</td>\n",
       "      <td>18.000000</td>\n",
       "      <td>15000.000000</td>\n",
       "      <td>0.000000</td>\n",
       "      <td>0.000000</td>\n",
       "      <td>0.000000</td>\n",
       "    </tr>\n",
       "    <tr>\n",
       "      <th>25%</th>\n",
       "      <td>242918.500000</td>\n",
       "      <td>26.000000</td>\n",
       "      <td>43000.000000</td>\n",
       "      <td>0.000000</td>\n",
       "      <td>0.000000</td>\n",
       "      <td>0.000000</td>\n",
       "    </tr>\n",
       "    <tr>\n",
       "      <th>50%</th>\n",
       "      <td>500141.500000</td>\n",
       "      <td>34.000000</td>\n",
       "      <td>55000.000000</td>\n",
       "      <td>1.000000</td>\n",
       "      <td>152.285173</td>\n",
       "      <td>70.000000</td>\n",
       "    </tr>\n",
       "    <tr>\n",
       "      <th>75%</th>\n",
       "      <td>748278.750000</td>\n",
       "      <td>39.000000</td>\n",
       "      <td>70000.000000</td>\n",
       "      <td>1.000000</td>\n",
       "      <td>405.884733</td>\n",
       "      <td>130.000000</td>\n",
       "    </tr>\n",
       "    <tr>\n",
       "      <th>max</th>\n",
       "      <td>999992.000000</td>\n",
       "      <td>70.000000</td>\n",
       "      <td>183000.000000</td>\n",
       "      <td>4.000000</td>\n",
       "      <td>5663.937775</td>\n",
       "      <td>720.000000</td>\n",
       "    </tr>\n",
       "  </tbody>\n",
       "</table>\n",
       "</div>"
      ],
      "text/plain": [
       "              userid           age         income  active_goals   total_funds  \\\n",
       "count   19804.000000  19804.000000   19804.000000  19804.000000  19804.000000   \n",
       "mean   498226.592911     33.588366   57919.410220      0.907897    285.135151   \n",
       "std    290134.986965      9.386381   20715.867555      0.798676    394.004454   \n",
       "min        26.000000     18.000000   15000.000000      0.000000      0.000000   \n",
       "25%    242918.500000     26.000000   43000.000000      0.000000      0.000000   \n",
       "50%    500141.500000     34.000000   55000.000000      1.000000    152.285173   \n",
       "75%    748278.750000     39.000000   70000.000000      1.000000    405.884733   \n",
       "max    999992.000000     70.000000  183000.000000      4.000000   5663.937775   \n",
       "\n",
       "       active_deposits  \n",
       "count     19804.000000  \n",
       "mean         80.338820  \n",
       "std          81.121708  \n",
       "min           0.000000  \n",
       "25%           0.000000  \n",
       "50%          70.000000  \n",
       "75%         130.000000  \n",
       "max         720.000000  "
      ]
     },
     "execution_count": 7,
     "metadata": {},
     "output_type": "execute_result"
    }
   ],
   "source": [
    "user_data.describe()\n",
    "\n",
    "# Age looks good, no values under 18 as expected and oldest user is 70.\n",
    "# Income also looks good, no negative values or major outliers\n",
    "# active_goals also good... no negative values or major outliers\n",
    "# total_funds is good same as above, values seem low given that p50 income is $55k but p50 of funds is only $152. \n",
    "# active_deposits also looks good with no negative values and no major outliers"
   ]
  },
  {
   "cell_type": "code",
   "execution_count": 8,
   "metadata": {},
   "outputs": [
    {
     "data": {
      "text/html": [
       "<div>\n",
       "<style scoped>\n",
       "    .dataframe tbody tr th:only-of-type {\n",
       "        vertical-align: middle;\n",
       "    }\n",
       "\n",
       "    .dataframe tbody tr th {\n",
       "        vertical-align: top;\n",
       "    }\n",
       "\n",
       "    .dataframe thead th {\n",
       "        text-align: right;\n",
       "    }\n",
       "</style>\n",
       "<table border=\"1\" class=\"dataframe\">\n",
       "  <thead>\n",
       "    <tr style=\"text-align: right;\">\n",
       "      <th></th>\n",
       "      <th>userid</th>\n",
       "      <th>acquisition_date</th>\n",
       "      <th>churn_date</th>\n",
       "      <th>age</th>\n",
       "      <th>gender</th>\n",
       "      <th>income</th>\n",
       "      <th>account_type</th>\n",
       "      <th>attribution_source</th>\n",
       "      <th>active_goals</th>\n",
       "      <th>total_funds</th>\n",
       "      <th>active_deposits</th>\n",
       "    </tr>\n",
       "  </thead>\n",
       "  <tbody>\n",
       "  </tbody>\n",
       "</table>\n",
       "</div>"
      ],
      "text/plain": [
       "Empty DataFrame\n",
       "Columns: [userid, acquisition_date, churn_date, age, gender, income, account_type, attribution_source, active_goals, total_funds, active_deposits]\n",
       "Index: []"
      ]
     },
     "execution_count": 8,
     "metadata": {},
     "output_type": "execute_result"
    }
   ],
   "source": [
    "# lets check for NaNs/nulls outside of churn date\n",
    "\n",
    "# returns any rows where there is null data\n",
    "user_data[user_data[['userid','acquisition_date','age','gender','income','account_type',\n",
    "                     'attribution_source','active_goals','total_funds','active_deposits']].isnull().any(axis=1)]\n",
    "\n",
    "# Excellent - no rows with null values.  Thus will not remove any data from the dataset"
   ]
  },
  {
   "cell_type": "markdown",
   "metadata": {},
   "source": [
    "### Question 1: What does the average Twine customer look like? Are any types of customers more valuable than others?"
   ]
  },
  {
   "cell_type": "code",
   "execution_count": 9,
   "metadata": {},
   "outputs": [
    {
     "name": "stdout",
     "output_type": "stream",
     "text": [
      "gender\n",
      "female    53.963846\n",
      "male      46.036154\n",
      "Name: userid, dtype: float64\n",
      "account_type\n",
      "Cash        29.140578\n",
      "Invested    70.859422\n",
      "Name: userid, dtype: float64\n",
      "attribution_source\n",
      "Facebook     22.869117\n",
      "Feedmob      15.067663\n",
      "Google       19.758635\n",
      "Instagram    11.881438\n",
      "Organic      30.423147\n",
      "Name: userid, dtype: float64\n"
     ]
    }
   ],
   "source": [
    "# get gender stats, also verify the values for gender.. appear only \"male\" and \"female\" values exist\n",
    "print(((user_data['userid'].groupby(user_data['gender']).count()) / 19804) * 100)\n",
    "print(((user_data['userid'].groupby(user_data['account_type']).count()) / 19804) * 100)\n",
    "print(((user_data['userid'].groupby(user_data['attribution_source']).count()) / 19804) * 100)"
   ]
  },
  {
   "cell_type": "markdown",
   "metadata": {},
   "source": [
    "From the data summary, the average Twine customer is 33.5 years of age, making ~ $58,000/annually.  Slightly more than half of users are female and 70% of users have holdings in an investment account (vs. ~30% in cash)."
   ]
  },
  {
   "cell_type": "code",
   "execution_count": 10,
   "metadata": {},
   "outputs": [],
   "source": [
    "# Presuming that valuable customers is defined as those that those with a higher than average \"total_funds\", let's \n",
    "# see if there's anything we can see from the data\n",
    "\n",
    "# getting the median user qualities\n",
    "avg_age = user_data['age'].agg('median')\n",
    "avg_income = user_data['income'].agg('median')\n",
    "avg_attr_source = user_data['attribution_source'].mode()[0]\n",
    "avg_act_depos = user_data['active_deposits'].agg('median')\n",
    "\n",
    "\n",
    "# get p75/top 25 percentile of users (by total_funds) \n",
    "p75_age = user_data['age'].loc[user_data['total_funds'] >= user_data['total_funds'].quantile(0.75)].agg('median')\n",
    "p75_income = user_data['income'].loc[user_data['total_funds'] >= user_data['total_funds'].quantile(0.75)].agg('median')\n",
    "p75_attr_source = user_data['attribution_source'].loc[user_data['total_funds'] >= user_data['total_funds'].quantile(0.75)].mode()[0]\n",
    "p75_act_depos = user_data['active_deposits'].loc[user_data['total_funds'] >= user_data['total_funds'].quantile(0.75)].agg('median')\n",
    "\n",
    "\n",
    "p25_age = user_data['age'].loc[user_data['total_funds'] >= user_data['total_funds'].quantile(0.25)].agg('median')\n",
    "p25_income = user_data['income'].loc[user_data['total_funds'] >= user_data['total_funds'].quantile(0.25)].agg('median')\n",
    "p25_attr_source = user_data['attribution_source'].loc[user_data['total_funds'] >= user_data['total_funds'].quantile(0.25)].mode()[0]\n",
    "p25_act_depos = user_data['active_deposits'].loc[user_data['total_funds'] >= user_data['total_funds'].quantile(0.25)].agg('median')\n"
   ]
  },
  {
   "cell_type": "code",
   "execution_count": 11,
   "metadata": {},
   "outputs": [
    {
     "data": {
      "image/png": "[encoded data removed]",
      "text/plain": [
       "<Figure size 576x288 with 1 Axes>"
      ]
     },
     "metadata": {},
     "output_type": "display_data"
    }
   ],
   "source": [
    "# Plot the averages vs. the p75\n",
    "\n",
    "fig = plt.figure(figsize=(8,4))\n",
    "\n",
    "plt.bar(['p25_age','median_age','p75_age'],[p25_age,avg_age,p75_age], color=['y','b','r'], width=0.4)\n",
    "plt.title('Median Ages of 25th Percentile, All Users, and 75th Percentile')\n",
    "\n",
    "\n",
    "plt.show()"
   ]
  },
  {
   "cell_type": "code",
   "execution_count": 12,
   "metadata": {},
   "outputs": [
    {
     "data": {
      "image/png": "[encoded data removed]",
      "text/plain": [
       "<Figure size 576x288 with 1 Axes>"
      ]
     },
     "metadata": {},
     "output_type": "display_data"
    }
   ],
   "source": [
    "# Plot the averages vs. the p75\n",
    "\n",
    "fig2 = plt.figure(figsize=(8,4))\n",
    "plt.bar(['p25_income','median_income','p75_income'],[p25_income,avg_income,p75_income], color=['y','b','r'], width=0.4)\n",
    "plt.title('Median Incomes of 25th Percentile, All Users, and 75th Percentile')\n",
    "plt.tight_layout\n",
    "plt.show()"
   ]
  },
  {
   "cell_type": "code",
   "execution_count": 13,
   "metadata": {},
   "outputs": [
    {
     "data": {
      "image/png": "[encoded data removed]",
      "text/plain": [
       "<Figure size 576x288 with 1 Axes>"
      ]
     },
     "metadata": {},
     "output_type": "display_data"
    }
   ],
   "source": [
    "fig3 = plt.figure(figsize=(8,4))\n",
    "plt.bar(['p25_active_deposits','median_active_deposits','p75_active_deposits'],[p25_act_depos,avg_act_depos,p75_act_depos], color=['y','b','r'], width=0.4)\n",
    "plt.title('Median Dollar Value of Active Depositis of 25th Percentile, All Users, and 75th Percentile')\n",
    "plt.tight_layout\n",
    "plt.show()"
   ]
  },
  {
   "cell_type": "code",
   "execution_count": 14,
   "metadata": {},
   "outputs": [
    {
     "name": "stdout",
     "output_type": "stream",
     "text": [
      "The most common attribution source for 25th Percentile is Organic\n",
      "The most common attribution source Overall is Organic\n",
      "The most common attribution source for 75hth Percentile is Organic\n"
     ]
    }
   ],
   "source": [
    "print('The most common attribution source for 25th Percentile is {}'.format(p25_attr_source))\n",
    "print('The most common attribution source Overall is {}'.format(avg_attr_source))\n",
    "print('The most common attribution source for 75hth Percentile is {}'.format(p75_attr_source))"
   ]
  },
  {
   "cell_type": "markdown",
   "metadata": {},
   "source": [
    "The more \"valuable\" users tend to have higher incomes and tend to contribute more on a monthly basis (by a factor of nearly 2.5).  Though it is natural for a user with more income to contribute more proportionally, I would be interested in looking for data about this cohort's attitude towards savings.  I hypothesize that our more \"valuable\" users have a different attitude towards savings and that we can increase total funds from our users with education intiatives.\n",
    "\n",
    "There is little to no difference between valuable and non-valuable users based on age and income level."
   ]
  },
  {
   "cell_type": "markdown",
   "metadata": {},
   "source": [
    "#### Question 2: What is the survival rate of Twine’s customers? What factors influence survival rate and how?"
   ]
  },
  {
   "cell_type": "code",
   "execution_count": 15,
   "metadata": {},
   "outputs": [
    {
     "name": "stdout",
     "output_type": "stream",
     "text": [
      "The survival rate of Twine customers is: 65.88%\n"
     ]
    }
   ],
   "source": [
    "# Find survival rate which is (# users - # users that survived/ #users). \n",
    "\n",
    "churned_users = user_data['churn_date'].count() #could also use the 6758 count from user_data.describe\n",
    "num_users = user_data.shape[0]\n",
    "\n",
    "survival_rate = ((num_users - churned_users)/ num_users) * 100\n",
    "\n",
    "print('The survival rate of Twine customers is: {:.2f}%'.format(survival_rate))"
   ]
  },
  {
   "cell_type": "code",
   "execution_count": 16,
   "metadata": {},
   "outputs": [],
   "source": [
    "# Two approaches to see what influences survival rate\n",
    "# 1) Compare age, income, gender, attribution source from those that churned and current users\n",
    "# 2) I suspect account age may be a factor\n",
    "\n",
    "# Begin with the first approach\n",
    "\n",
    "# get the median churn user values\n",
    "churn_age = user_data['age'].loc[user_data['churn_date'].notnull()].agg('median')\n",
    "churn_income = user_data['income'].loc[user_data['churn_date'].notnull()].agg('median')\n",
    "churn_attr_source = user_data['attribution_source'].loc[user_data['churn_date'].notnull()].mode()[0]\n",
    "churn_gender = user_data['gender'].loc[user_data['churn_date'].notnull()].groupby(user_data['gender']).count()\n",
    "\n",
    "\n",
    "# get active user values\n",
    "active_age = user_data['age'].loc[user_data['churn_date'].isnull()].agg('median')\n",
    "active_income = user_data['income'].loc[user_data['churn_date'].isnull()].agg('median')\n",
    "active_attr_source = user_data['attribution_source'].loc[user_data['churn_date'].isnull()].mode()[0]\n",
    "active_gender = user_data['active_deposits'].loc[user_data['churn_date'].isnull()].groupby(user_data['gender']).count()"
   ]
  },
  {
   "cell_type": "code",
   "execution_count": 17,
   "metadata": {},
   "outputs": [
    {
     "data": {
      "image/png": "[encoded data removed]",
      "text/plain": [
       "<Figure size 576x432 with 1 Axes>"
      ]
     },
     "metadata": {},
     "output_type": "display_data"
    }
   ],
   "source": [
    "fig = plt.figure(figsize=(8,6))\n",
    "\n",
    "plt.bar(['churn_age','active_age'],[churn_age, active_age], width=0.4, color=['r','b'])\n",
    "plt.title('Age (Churned Users vs. Active Users)')\n",
    "plt.show()"
   ]
  },
  {
   "cell_type": "code",
   "execution_count": 18,
   "metadata": {},
   "outputs": [
    {
     "data": {
      "image/png": "[encoded data removed]",
      "text/plain": [
       "<Figure size 576x432 with 1 Axes>"
      ]
     },
     "metadata": {},
     "output_type": "display_data"
    }
   ],
   "source": [
    "fig = plt.figure(figsize=(8,6))\n",
    "\n",
    "plt.bar(['churn_income','active_income'],[churn_income, active_income], width=0.4, color=['r','b'])\n",
    "plt.title('Income (Churned Users vs. Active Users)')\n",
    "plt.show()"
   ]
  },
  {
   "cell_type": "code",
   "execution_count": 19,
   "metadata": {},
   "outputs": [
    {
     "data": {
      "text/plain": [
       "gender\n",
       "female    3299\n",
       "male      3459\n",
       "Name: gender, dtype: int64"
      ]
     },
     "execution_count": 19,
     "metadata": {},
     "output_type": "execute_result"
    }
   ],
   "source": [
    "churn_gender"
   ]
  },
  {
   "cell_type": "code",
   "execution_count": 20,
   "metadata": {},
   "outputs": [
    {
     "data": {
      "text/plain": [
       "gender\n",
       "female    7388\n",
       "male      5658\n",
       "Name: active_deposits, dtype: int64"
      ]
     },
     "execution_count": 20,
     "metadata": {},
     "output_type": "execute_result"
    }
   ],
   "source": [
    "active_gender"
   ]
  },
  {
   "cell_type": "code",
   "execution_count": 21,
   "metadata": {},
   "outputs": [
    {
     "data": {
      "image/png": "[encoded data removed]",
      "text/plain": [
       "<Figure size 576x432 with 1 Axes>"
      ]
     },
     "metadata": {},
     "output_type": "display_data"
    }
   ],
   "source": [
    "fig = plt.figure(figsize=(8,6))\n",
    "\n",
    "plt.bar(['churn_female','churn_male','active_female','active_male'],\n",
    "        [churn_gender[0], churn_gender[1], active_gender[0], active_gender[1]], width=0.4, color=['r','b','y','g'])\n",
    "plt.title('Gender (Churned Users vs. Active Users)')\n",
    "plt.show()"
   ]
  },
  {
   "cell_type": "code",
   "execution_count": 22,
   "metadata": {},
   "outputs": [
    {
     "name": "stdout",
     "output_type": "stream",
     "text": [
      "The most common attribution source for Churned Users is Facebook\n",
      "attribution_source\n",
      "Facebook     26.250370\n",
      "Feedmob      21.885173\n",
      "Google       22.343889\n",
      "Instagram    10.091743\n",
      "Organic      19.428825\n",
      "Name: attribution_source, dtype: float64\n",
      "The most common attribution source for Active Users  is Organic\n",
      "attribution_source\n",
      "Facebook     21.117584\n",
      "Feedmob      11.536103\n",
      "Google       18.419439\n",
      "Instagram    12.808524\n",
      "Organic      36.118350\n",
      "Name: attribution_source, dtype: float64\n"
     ]
    }
   ],
   "source": [
    "print('The most common attribution source for Churned Users is {}'.format(churn_attr_source))\n",
    "churn_attr_count = user_data['attribution_source'].loc[user_data['churn_date'].notnull()].groupby(user_data['attribution_source']).count()\n",
    "print(churn_attr_count/churn_attr_count.sum()*100)\n",
    "\n",
    "print('The most common attribution source for Active Users  is {}'.format(active_attr_source))\n",
    "active_attr_count = user_data['attribution_source'].loc[user_data['churn_date'].isnull()].groupby(user_data['attribution_source']).count()\n",
    "print(active_attr_count/active_attr_count.sum()*100)"
   ]
  },
  {
   "cell_type": "markdown",
   "metadata": {},
   "source": [
    "With respect to the gender visualization, I would expect to see a similar proportion of male/female in the churned cohort as in the active cohort.  However, this doesn't seem to the the case.  The data suggests that males churn at a higher rate than females.  The difference in gender consumption behavior warrants additional research as it is difficult to determine with the data we have.  \n",
    "\n",
    "We see no difference in the income or age levels of the churn and active cohorts. \n",
    "\n",
    "It seems that the composition of the attribution source differs greatly between the two cohorts which may indicate the marketing channel demographic is a factor.  We see that most of the churned users came from Facebook, Google and Feedmob whereas the active users mostly came from Organic sources, followed by Facebook and Google.  Users from Feedmob churned at nearly twice the rate of active users.  I would look into decreasing ad spend in Feedmob and increasing in Organic channels."
   ]
  },
  {
   "cell_type": "code",
   "execution_count": 23,
   "metadata": {},
   "outputs": [],
   "source": [
    "# Approach 2 - seeing account age. Plot the varying time deltas of acq date and churn date, then compare to avg age of active\n",
    "\n",
    "user_data['churned_acct_age'] =  user_data['churn_date'] - user_data['acquisition_date']\n",
    "user_data['active_acct_age'] = pd.to_datetime('today') - user_data['acquisition_date']"
   ]
  },
  {
   "cell_type": "code",
   "execution_count": 24,
   "metadata": {},
   "outputs": [
    {
     "data": {
      "text/plain": [
       "count                        6758\n",
       "mean     115 days 21:01:51.867416\n",
       "std       52 days 04:18:21.104619\n",
       "min               0 days 00:00:00\n",
       "25%              78 days 00:00:00\n",
       "50%             111 days 00:00:00\n",
       "75%             149 days 00:00:00\n",
       "max             312 days 00:00:00\n",
       "Name: churned_acct_age, dtype: object"
      ]
     },
     "execution_count": 24,
     "metadata": {},
     "output_type": "execute_result"
    }
   ],
   "source": [
    "user_data['churned_acct_age'].describe()"
   ]
  },
  {
   "cell_type": "code",
   "execution_count": 25,
   "metadata": {},
   "outputs": [
    {
     "data": {
      "text/plain": [
       "count                       19804\n",
       "mean     176 days 12:00:54.967656\n",
       "std       81 days 03:58:38.834290\n",
       "min       62 days 22:33:35.298903\n",
       "25%      107 days 22:33:35.298903\n",
       "50%      162 days 22:33:35.298903\n",
       "75%      232 days 22:33:35.298903\n",
       "max      391 days 22:33:35.298903\n",
       "Name: active_acct_age, dtype: object"
      ]
     },
     "execution_count": 25,
     "metadata": {},
     "output_type": "execute_result"
    }
   ],
   "source": [
    "user_data['active_acct_age'].describe()"
   ]
  },
  {
   "cell_type": "markdown",
   "metadata": {},
   "source": [
    "At a high level, the data suggests that, on average, users will churn between 111 and 115 days.  75% of churned users, left after 149 days.  Given that the average account age of an active user is 176 days, I suspect we can lift active users by pushing marketing and rentention efforts to users around the 111 day mark until the 162 day mark.\n",
    "\n",
    "111 Days translates to roughly 3.7 months which seems like a natural savings goal length (vacation, wedding, etc.).  However, this of course warrants further analysis. "
   ]
  },
  {
   "cell_type": "code",
   "execution_count": 28,
   "metadata": {},
   "outputs": [
    {
     "data": {
      "image/png": "[encoded data removed]",
      "text/plain": [
       "<Figure size 1080x576 with 1 Axes>"
      ]
     },
     "metadata": {},
     "output_type": "display_data"
    }
   ],
   "source": [
    "# Another suspicion is that users will tend to churn at the certain time of year\n",
    "plt.figure(figsize=(15,8))\n",
    "user_data['churn_date'].groupby(user_data['churn_date']).count().plot()\n",
    "plt.title('Number of Churned Users by Date')\n",
    "plt.ylabel('# Users')\n",
    "plt.xlabel('Date')\n",
    "\n",
    "plt.show()"
   ]
  },
  {
   "cell_type": "markdown",
   "metadata": {},
   "source": [
    "The above 10-month plot does not lend any evidence to suggest churn is a function of seasonability.  However, we do see an increasing trend that further confirms that account age is a factor as to when a user will churn."
   ]
  },
  {
   "cell_type": "markdown",
   "metadata": {},
   "source": [
    "#### Question 3: Which attribution source provides the highest quality Twine customers? Should we invest more in any platforms? Should we treat customers from different platforms differently? How and Why?"
   ]
  },
  {
   "cell_type": "markdown",
   "metadata": {},
   "source": [
    "In the above analysis, we see that users that churn tend to originate mainly from Facebook, Google and Feedmob (in that order) while active users originate from Organic channels, Facebook then Google. With the goal of acquiring users that tend to not churn, we should increase ad spend/marketing in Organic Channels and decrease spend in Feedmob (if any).\n",
    "\n",
    "Since Facebook and Google have nearly equal rates of active/churn, we ought to reevaluate the type of marketing (such as demographic targeting, messaging, etc.) with user retention in mind. Perhaps we can offer two types of campaigns, one geared towards those likely to remain active users after ~176 days and one towards those we predict will churn.\n",
    "\n",
    "Lastly, since users from Feedmob are almost twice as likely to churn, we should treat these customers differently. These customers are likely from ads served in other mobile apps as may require more frequent notifications/retention efforts as they may generally see more ads from competitors.\n"
   ]
  },
  {
   "cell_type": "code",
   "execution_count": null,
   "metadata": {},
   "outputs": [],
   "source": []
  }
 ],
 "metadata": {
  "kernelspec": {
   "display_name": "Python 3",
   "language": "python",
   "name": "python3"
  },
  "language_info": {
   "codemirror_mode": {
    "name": "ipython",
    "version": 3
   },
   "file_extension": ".py",
   "mimetype": "text/x-python",
   "name": "python",
   "nbconvert_exporter": "python",
   "pygments_lexer": "ipython3",
   "version": "3.6.5"
  }
 },
 "nbformat": 4,
 "nbformat_minor": 2
}
