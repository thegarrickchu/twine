{
 "cells": [
  {
   "cell_type": "code",
   "execution_count": 1,
   "metadata": {},
   "outputs": [],
   "source": [
    "# This notebook is for Section 4: Experimenta Analysis of the Twine Take Home Assignment\n",
    "# Source Data: exp_results.csv\n",
    "\n",
    "# import necessary modules\n",
    "\n",
    "import numpy as np\n",
    "import pandas as pd\n",
    "from statsmodels.stats.weightstats import ztest\n",
    "import matplotlib.pyplot as plt\n",
    "plt.style.use('ggplot')\n",
    "%matplotlib inline"
   ]
  },
  {
   "cell_type": "code",
   "execution_count": 2,
   "metadata": {},
   "outputs": [
    {
     "data": {
      "text/html": [
       "<div>\n",
       "<style scoped>\n",
       "    .dataframe tbody tr th:only-of-type {\n",
       "        vertical-align: middle;\n",
       "    }\n",
       "\n",
       "    .dataframe tbody tr th {\n",
       "        vertical-align: top;\n",
       "    }\n",
       "\n",
       "    .dataframe thead th {\n",
       "        text-align: right;\n",
       "    }\n",
       "</style>\n",
       "<table border=\"1\" class=\"dataframe\">\n",
       "  <thead>\n",
       "    <tr style=\"text-align: right;\">\n",
       "      <th></th>\n",
       "      <th>userid</th>\n",
       "      <th>condition</th>\n",
       "      <th>age_group</th>\n",
       "      <th>goal_opened</th>\n",
       "    </tr>\n",
       "  </thead>\n",
       "  <tbody>\n",
       "    <tr>\n",
       "      <th>0</th>\n",
       "      <td>914806</td>\n",
       "      <td>control</td>\n",
       "      <td>30-45</td>\n",
       "      <td>0</td>\n",
       "    </tr>\n",
       "    <tr>\n",
       "      <th>1</th>\n",
       "      <td>937075</td>\n",
       "      <td>message_1</td>\n",
       "      <td>46-55</td>\n",
       "      <td>0</td>\n",
       "    </tr>\n",
       "    <tr>\n",
       "      <th>2</th>\n",
       "      <td>286139</td>\n",
       "      <td>message_2</td>\n",
       "      <td>30-45</td>\n",
       "      <td>0</td>\n",
       "    </tr>\n",
       "    <tr>\n",
       "      <th>3</th>\n",
       "      <td>830447</td>\n",
       "      <td>control</td>\n",
       "      <td>30-45</td>\n",
       "      <td>0</td>\n",
       "    </tr>\n",
       "    <tr>\n",
       "      <th>4</th>\n",
       "      <td>641745</td>\n",
       "      <td>message_1</td>\n",
       "      <td>30-45</td>\n",
       "      <td>0</td>\n",
       "    </tr>\n",
       "    <tr>\n",
       "      <th>5</th>\n",
       "      <td>519095</td>\n",
       "      <td>message_2</td>\n",
       "      <td>30-45</td>\n",
       "      <td>0</td>\n",
       "    </tr>\n",
       "    <tr>\n",
       "      <th>6</th>\n",
       "      <td>736588</td>\n",
       "      <td>control</td>\n",
       "      <td>46-55</td>\n",
       "      <td>0</td>\n",
       "    </tr>\n",
       "    <tr>\n",
       "      <th>7</th>\n",
       "      <td>134666</td>\n",
       "      <td>message_1</td>\n",
       "      <td>30-45</td>\n",
       "      <td>0</td>\n",
       "    </tr>\n",
       "    <tr>\n",
       "      <th>8</th>\n",
       "      <td>656992</td>\n",
       "      <td>message_2</td>\n",
       "      <td>&lt;30</td>\n",
       "      <td>0</td>\n",
       "    </tr>\n",
       "    <tr>\n",
       "      <th>9</th>\n",
       "      <td>705064</td>\n",
       "      <td>control</td>\n",
       "      <td>30-45</td>\n",
       "      <td>0</td>\n",
       "    </tr>\n",
       "  </tbody>\n",
       "</table>\n",
       "</div>"
      ],
      "text/plain": [
       "   userid  condition age_group  goal_opened\n",
       "0  914806    control     30-45            0\n",
       "1  937075  message_1     46-55            0\n",
       "2  286139  message_2     30-45            0\n",
       "3  830447    control     30-45            0\n",
       "4  641745  message_1     30-45            0\n",
       "5  519095  message_2     30-45            0\n",
       "6  736588    control     46-55            0\n",
       "7  134666  message_1     30-45            0\n",
       "8  656992  message_2       <30            0\n",
       "9  705064    control     30-45            0"
      ]
     },
     "execution_count": 2,
     "metadata": {},
     "output_type": "execute_result"
    }
   ],
   "source": [
    "results = pd.read_csv('exp_results.csv', sep=\",\", encoding='utf8')\n",
    "results.head(10)"
   ]
  },
  {
   "cell_type": "code",
   "execution_count": 3,
   "metadata": {},
   "outputs": [
    {
     "data": {
      "text/plain": [
       "(9954, 4)"
      ]
     },
     "execution_count": 3,
     "metadata": {},
     "output_type": "execute_result"
    }
   ],
   "source": [
    "results.shape"
   ]
  },
  {
   "cell_type": "code",
   "execution_count": 4,
   "metadata": {},
   "outputs": [
    {
     "name": "stdout",
     "output_type": "stream",
     "text": [
      "<class 'pandas.core.frame.DataFrame'>\n",
      "RangeIndex: 9954 entries, 0 to 9953\n",
      "Data columns (total 4 columns):\n",
      "userid         9954 non-null int64\n",
      "condition      9954 non-null object\n",
      "age_group      9954 non-null object\n",
      "goal_opened    9954 non-null int64\n",
      "dtypes: int64(2), object(2)\n",
      "memory usage: 311.1+ KB\n"
     ]
    }
   ],
   "source": [
    "results.info()\n",
    "\n",
    "# seems that the data is clean. no missing values or incorrect data types"
   ]
  },
  {
   "cell_type": "code",
   "execution_count": 5,
   "metadata": {},
   "outputs": [
    {
     "data": {
      "text/plain": [
       "array(['control', 'message_1', 'message_2'], dtype=object)"
      ]
     },
     "execution_count": 5,
     "metadata": {},
     "output_type": "execute_result"
    }
   ],
   "source": [
    "results['condition'].unique()"
   ]
  },
  {
   "cell_type": "code",
   "execution_count": 6,
   "metadata": {},
   "outputs": [
    {
     "data": {
      "text/plain": [
       "array([0, 1])"
      ]
     },
     "execution_count": 6,
     "metadata": {},
     "output_type": "execute_result"
    }
   ],
   "source": [
    "results['goal_opened'].unique()"
   ]
  },
  {
   "cell_type": "code",
   "execution_count": 7,
   "metadata": {},
   "outputs": [
    {
     "data": {
      "text/plain": [
       "array(['30-45', '46-55', '<30', '55+'], dtype=object)"
      ]
     },
     "execution_count": 7,
     "metadata": {},
     "output_type": "execute_result"
    }
   ],
   "source": [
    "results['age_group'].unique()"
   ]
  },
  {
   "cell_type": "markdown",
   "metadata": {},
   "source": [
    "#### Question 1: Did either or both messages have a statistically significant effect? If so, how large were the effects?"
   ]
  },
  {
   "cell_type": "code",
   "execution_count": 8,
   "metadata": {},
   "outputs": [
    {
     "data": {
      "image/png": "[encoded data removed]",
      "text/plain": [
       "<Figure size 720x432 with 1 Axes>"
      ]
     },
     "metadata": {},
     "output_type": "display_data"
    }
   ],
   "source": [
    "opened_all = results['goal_opened'].sum()\n",
    "opened_msg1 = results['goal_opened'].loc[results['condition'] == 'message_1'].sum()\n",
    "opened_msg2 = results['goal_opened'].loc[results['condition'] == 'message_2'].sum()\n",
    "opened_ctrl = results['goal_opened'].loc[results['condition'] == 'control'].sum()\n",
    "\n",
    "sample = results.shape[0]\n",
    "\n",
    "plt.figure(figsize=(10,6))\n",
    "plt.bar(\n",
    "    ['Message 1 Users','Message 2 Users','Control Users', 'Cumulative'], \n",
    "    [(opened_msg1/sample)*100, (opened_msg2/sample)*100,(opened_ctrl/sample)*100, (opened_all/sample)*100],\n",
    "    color=['g','y','r','b'], width=0.4)\n",
    "plt.title('Pct Sampled Users that Opened Goal')\n",
    "plt.ylabel('%')\n",
    "plt.xlabel('Group')\n",
    "plt.xticks(rotation=40)\n",
    "plt.show()"
   ]
  },
  {
   "cell_type": "code",
   "execution_count": 9,
   "metadata": {},
   "outputs": [
    {
     "data": {
      "image/png": "[encoded data removed]",
      "text/plain": [
       "<Figure size 720x432 with 1 Axes>"
      ]
     },
     "metadata": {},
     "output_type": "display_data"
    }
   ],
   "source": [
    "plt.figure(figsize=(10,6))\n",
    "\n",
    "plt.bar(\n",
    "    ['Message 1 Users','Message 2 Users','Control Users'], \n",
    "    [(opened_msg1/sample)*100, (opened_msg2/sample)*100,(opened_ctrl/sample)*100],\n",
    "    color=['g','y','r','b'], width=0.4)\n",
    "plt.title('Pct Sampled Users that Opened Goal')\n",
    "plt.ylabel('%')\n",
    "plt.xlabel('Group')\n",
    "plt.xticks(rotation=40)\n",
    "plt.show()"
   ]
  },
  {
   "cell_type": "code",
   "execution_count": 10,
   "metadata": {},
   "outputs": [
    {
     "name": "stdout",
     "output_type": "stream",
     "text": [
      "From the sample of 9954, 1015 users opened a goal (or 10.20%).\n",
      "From the sample of 9954, 396 users that received Message 1 opened a goal (or 3.98%).\n",
      "From the sample of 9954, 322 users that received Message 2 opened a goal (or 3.23%).\n",
      "From the sample of 9954, 297 users in the control opened a goal (or 2.98%).\n"
     ]
    }
   ],
   "source": [
    "# detailed summary of the above plots\n",
    "\n",
    "print('From the sample of {}, {} users opened a goal (or {:.2f}%).'.format(sample, opened_all, (opened_all/sample)*100))\n",
    "print('From the sample of {}, {} users that received Message 1 opened a goal (or {:.2f}%).'.format(sample, opened_msg1, (opened_msg1/sample)*100))\n",
    "print('From the sample of {}, {} users that received Message 2 opened a goal (or {:.2f}%).'.format(sample, opened_msg2, (opened_msg2/sample)*100))\n",
    "print('From the sample of {}, {} users in the control opened a goal (or {:.2f}%).'.format(sample, opened_ctrl, (opened_ctrl/sample)*100))"
   ]
  },
  {
   "cell_type": "markdown",
   "metadata": {},
   "source": [
    "At first glance, we see that users in the test group were more likely to open a goal compared to the control group.  We also see that users that received message 1 were more likely than users that received message 2 were more likely to open a goal.\n",
    "\n",
    "However, to determine if this is statistically significant we must find the means of each cohort and perform further analysis"
   ]
  },
  {
   "cell_type": "code",
   "execution_count": 11,
   "metadata": {},
   "outputs": [],
   "source": [
    "# get sample stats for each sub-sample\n",
    "# I intend to compare the means of each user group, here we can consider the mean to be ratio of users in each group that\n",
    "# opened a goal to the total users of each group. As the column 'opened_goal' is binary, we can sum up all the values\n",
    "# of each group and arrive at a mean.\n",
    "msg1_samp = results['userid'].loc[results['condition'] == 'message_1'].count()\n",
    "msg1_mean = opened_msg1/msg1_samp\n",
    "\n",
    "msg2_samp = results['userid'].loc[results['condition'] == 'message_2'].count()\n",
    "msg2_mean = opened_msg2/msg2_samp\n",
    "\n",
    "test_samp = results['userid'].loc[results['condition'] != 'control'].count() #get all users no part of the control\n",
    "test_mean = (opened_msg1+opened_msg2)/test_samp\n",
    "\n",
    "ctrl_samp = results['userid'].loc[results['condition'] == 'control'].count()\n",
    "ctrl_mean = opened_ctrl/ctrl_samp"
   ]
  },
  {
   "cell_type": "code",
   "execution_count": 12,
   "metadata": {},
   "outputs": [
    {
     "name": "stdout",
     "output_type": "stream",
     "text": [
      "The message_1 group sample size is 3318 with a mean of 0.1193.\n",
      "The message_2 group sample size is 3318 with a mean of 0.0970.\n",
      "The TEST group sample size is 6636 with a mean of 0.1082.\n",
      "The CONTROL group sample size is 3318 with a mean of 0.0895.\n"
     ]
    }
   ],
   "source": [
    "print('The message_1 group sample size is {} with a mean of {:.4f}.'.format(msg1_samp,msg1_mean))\n",
    "print('The message_2 group sample size is {} with a mean of {:.4f}.'.format(msg2_samp,msg2_mean))\n",
    "\n",
    "print('The TEST group sample size is {} with a mean of {:.4f}.'.format(test_samp,test_mean))\n",
    "print('The CONTROL group sample size is {} with a mean of {:.4f}.'.format(ctrl_samp,ctrl_mean))"
   ]
  },
  {
   "cell_type": "markdown",
   "metadata": {},
   "source": [
    "We will set up the following hypothesis tests:\n",
    "1 - Test the message 1 mean vs. the control\n",
    "2 - Test the message 2 mean vs. the control\n",
    "3 - Test the TEST mean vs. the control\n",
    "\n",
    "Methodology: Here we can apply the Central Limit Theorem as the sample sizes are large and that if we continually sample from each group, the resulting means will be normally distributed.  Hence, we will proceed using a z-test"
   ]
  },
  {
   "cell_type": "code",
   "execution_count": 13,
   "metadata": {},
   "outputs": [
    {
     "name": "stdout",
     "output_type": "stream",
     "text": [
      "5.301340344251082\n"
     ]
    }
   ],
   "source": [
    "# Test 1 - One-tailed z-test, with an alpha of 0.05 or confidence level of 0.95 (95%)\n",
    "\n",
    "# H0: msg1_mean = ctrl_mean\n",
    "# Ha: msg1_mean > ctrl_mean\n",
    "\n",
    "# we reject the null in favor of the alternative if the z-stat is greater than z-score of 1.65\n",
    "\n",
    "msg1_std = np.std(results['goal_opened'].loc[results['condition'] =='message_1'])\n",
    "\n",
    "msg1_test_stat = (msg1_mean - ctrl_mean) / (msg1_std/np.sqrt(msg1_samp))\n",
    "\n",
    "print(msg1_test_stat)\n",
    "\n",
    "# Given that our test stat of 5.3 is greater than our z-stat of 1.65, we reject the null in favor of the alternative.\n",
    "# let us repeat for msg2 and the entire test group to be thorough"
   ]
  },
  {
   "cell_type": "code",
   "execution_count": 14,
   "metadata": {},
   "outputs": [
    {
     "name": "stdout",
     "output_type": "stream",
     "text": [
      "1.4661532221414573\n"
     ]
    }
   ],
   "source": [
    "# we repeat the one-tailed z-test with an alpha of 0.05/9% confidence level\n",
    "\n",
    "# H0: msg2_mean = ctrl_mean\n",
    "# HA: msg2_mean > ctrl_mean\n",
    "\n",
    "msg2_std = np.std(results['goal_opened'].loc[results['condition'] == 'message_2'])\n",
    "\n",
    "msg2_test_stat = (msg2_mean - ctrl_mean) / (msg2_std/np.sqrt(msg2_samp))\n",
    "\n",
    "print(msg2_test_stat)\n",
    "\n",
    "# Given that our msg2 test stat of 1.46 is LESS than our z-stat of 1.65, we fail to reject the null.\n",
    "# It appears that only users that received Message_1 were more likely to open a goal at a statistically significant level"
   ]
  },
  {
   "cell_type": "code",
   "execution_count": 15,
   "metadata": {},
   "outputs": [
    {
     "name": "stdout",
     "output_type": "stream",
     "text": [
      "4.900328238176529\n"
     ]
    }
   ],
   "source": [
    "# Repeat but for both messages\n",
    "\n",
    "# H0: test_mean = ctrl_mean\n",
    "# Ha: test_mean > ctrl_mean\n",
    "\n",
    "test_std = np.std(results['goal_opened'].loc[results['condition'] != 'control'])\n",
    "\n",
    "test_tstat = (test_mean - ctrl_mean) / (test_std/np.sqrt(test_samp))\n",
    "\n",
    "print(test_tstat)\n",
    "\n",
    "# Given that our test stat of 4.9 is greater than our z-stat is greater than 1.65, we reject the null in favor of the null.\n",
    "# This suggests that users in the test group were statistically more likely to open a goal than the control group\n",
    "# Coupled with the above tests, this is attributed to Message 1 than Message 2. "
   ]
  },
  {
   "cell_type": "markdown",
   "metadata": {},
   "source": [
    "#### Question 2: The marketing team suspects that message 2 might have had variable effects by age group. Did it show different effects in different age groups? If so, what were they?"
   ]
  },
  {
   "cell_type": "code",
   "execution_count": 16,
   "metadata": {},
   "outputs": [],
   "source": [
    "# use group by function to visually inspect this\n",
    "# age groups found earlier: array(['30-45', '46-55', '<30', '55+'], dtype=object)\n",
    "\n",
    "# first convert age_group col to string dtype\n",
    "\n",
    "results['agre_group'] = results['age_group'].astype('str')"
   ]
  },
  {
   "cell_type": "code",
   "execution_count": 17,
   "metadata": {},
   "outputs": [
    {
     "data": {
      "text/plain": [
       "age_group\n",
       "30-45    130\n",
       "46-55     33\n",
       "55+       26\n",
       "<30      133\n",
       "Name: goal_opened, dtype: int64"
      ]
     },
     "execution_count": 17,
     "metadata": {},
     "output_type": "execute_result"
    }
   ],
   "source": [
    "results['goal_opened'].loc[results['condition'] == 'message_2'].groupby(results['age_group']).sum()\n"
   ]
  },
  {
   "cell_type": "code",
   "execution_count": 18,
   "metadata": {},
   "outputs": [],
   "source": [
    "msg2_under_30 = results['goal_opened'].loc[results['condition'] == 'message_2'].groupby(results['age_group']).sum()[3]\n",
    "msg2_30_to_45 = results['goal_opened'].loc[results['condition'] == 'message_2'].groupby(results['age_group']).sum()[0]\n",
    "msg2_46_to_55 = results['goal_opened'].loc[results['condition'] == 'message_2'].groupby(results['age_group']).sum()[1]\n",
    "msg2_55_up = results['goal_opened'].loc[results['condition'] == 'message_2'].groupby(results['age_group']).sum()[2]"
   ]
  },
  {
   "cell_type": "code",
   "execution_count": 19,
   "metadata": {},
   "outputs": [
    {
     "data": {
      "image/png": "[encoded data removed]",
      "text/plain": [
       "<Figure size 720x432 with 1 Axes>"
      ]
     },
     "metadata": {},
     "output_type": "display_data"
    }
   ],
   "source": [
    "\n",
    "plt.figure(figsize=(10,6))\n",
    "plt.bar(\n",
    "    ['<30','30-45','46-55', '55+'], \n",
    "    [(msg2_under_30/msg2_samp)*100, (msg2_30_to_45/msg2_samp)*100,(msg2_46_to_55/msg2_samp)*100, (msg2_55_up/msg2_samp)*100],\n",
    "    color=['g','y','r','b'], width=0.4)\n",
    "plt.title('% of Message 2 Users that opened a goal by Age')\n",
    "plt.ylabel('%')\n",
    "plt.xlabel('Age Group')\n",
    "plt.xticks(rotation=40)\n",
    "plt.show()"
   ]
  },
  {
   "cell_type": "code",
   "execution_count": null,
   "metadata": {},
   "outputs": [],
   "source": []
  },
  {
   "cell_type": "code",
   "execution_count": null,
   "metadata": {},
   "outputs": [],
   "source": []
  },
  {
   "cell_type": "code",
   "execution_count": null,
   "metadata": {},
   "outputs": [],
   "source": []
  }
 ],
 "metadata": {
  "kernelspec": {
   "display_name": "Python 3",
   "language": "python",
   "name": "python3"
  },
  "language_info": {
   "codemirror_mode": {
    "name": "ipython",
    "version": 3
   },
   "file_extension": ".py",
   "mimetype": "text/x-python",
   "name": "python",
   "nbconvert_exporter": "python",
   "pygments_lexer": "ipython3",
   "version": "3.6.5"
  }
 },
 "nbformat": 4,
 "nbformat_minor": 2
}
